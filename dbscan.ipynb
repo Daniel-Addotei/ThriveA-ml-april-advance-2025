{
  "cells": [
    {
      "cell_type": "markdown",
      "metadata": {
        "id": "view-in-github",
        "colab_type": "text"
      },
      "source": [
        "<a href=\"https://colab.research.google.com/github/Daniel-Addotei/ThriveA-ml-april-advance-2025/blob/main/dbscan.ipynb\" target=\"_parent\"><img src=\"https://colab.research.google.com/assets/colab-badge.svg\" alt=\"Open In Colab\"/></a>"
      ]
    },
    {
      "cell_type": "markdown",
      "id": "c9a30b67-57c8-4436-b6c6-9b1db96f6e8d",
      "metadata": {
        "id": "c9a30b67-57c8-4436-b6c6-9b1db96f6e8d"
      },
      "source": [
        "# DBSCAN Clustering Tutorial _ Thrive Africa\n",
        "\n",
        "In this notebook, you will learn about **DBSCAN** (Density-Based Spatial Clustering of Applications with Noise), a clustering algorithm that groups together data points that are closely packed and marks as outliers points that lie alone in low-density regions.\n",
        "\n",
        "We will:\n",
        "- Explain the DBSCAN algorithm and its key parameters (`eps` and `min_samples`)\n",
        "- Work with two synthetic datasets (Blobs and Moons) for clustering\n",
        "- Use interactive widgets to experiment with different parameter values\n",
        "- **Apply DBSCAN to a real-world problem:** Identifying crime hotspots from simulated data\n",
        "\n",
        "Let's get started!"
      ]
    },
    {
      "cell_type": "markdown",
      "id": "22ab0153-4d59-4ea0-9dfd-9a1a17dfbfb4",
      "metadata": {
        "id": "22ab0153-4d59-4ea0-9dfd-9a1a17dfbfb4"
      },
      "source": [
        "## Introduction to DBSCAN\n",
        "\n",
        "**Key Concepts:**\n",
        "\n",
        "- **Density-Based Clustering:** DBSCAN groups points that are closely packed together, while marking isolated points (in low-density regions) as noise.\n",
        "- **Parameters:**\n",
        "  - `eps`: The maximum distance between two samples for them to be considered as neighbors.\n",
        "  - `min_samples`: The minimum number of points required in a neighborhood for a point to be considered a core point.\n",
        "\n",
        "DBSCAN is particularly useful for data with clusters of similar density and for detecting outliers."
      ]
    },
    {
      "cell_type": "code",
      "execution_count": null,
      "id": "6a4ffbfa-d149-4c0e-88b0-6c864cbb3a73",
      "metadata": {
        "id": "6a4ffbfa-d149-4c0e-88b0-6c864cbb3a73"
      },
      "outputs": [],
      "source": [
        "import numpy as np\n",
        "import matplotlib.pyplot as plt\n",
        "import ipywidgets as widgets\n",
        "from IPython.display import display\n",
        "from sklearn.cluster import DBSCAN\n",
        "from sklearn.datasets import make_moons, make_blobs\n",
        "from sklearn.preprocessing import StandardScaler\n",
        "\n",
        "%matplotlib inline"
      ]
    },
    {
      "cell_type": "code",
      "execution_count": null,
      "id": "5d8a918d-f88a-4de4-8e5e-2f7a7c8af84f",
      "metadata": {
        "id": "5d8a918d-f88a-4de4-8e5e-2f7a7c8af84f"
      },
      "outputs": [],
      "source": [
        "def plot_dbscan(eps, min_samples, dataset):\n",
        "    np.random.seed(42)\n",
        "\n",
        "    # Generate dataset based on user selection\n",
        "    if dataset == 'Blobs':\n",
        "        X, _ = make_blobs(n_samples=300, centers=3, cluster_std=0.6, random_state=42)\n",
        "    else:\n",
        "        X, _ = make_moons(n_samples=300, noise=0.05, random_state=42)\n",
        "\n",
        "    # Standardize the dataset\n",
        "    X = StandardScaler().fit_transform(X)\n",
        "\n",
        "    # Apply DBSCAN clustering\n",
        "    dbscan = DBSCAN(eps=eps, min_samples=min_samples)\n",
        "    labels = dbscan.fit_predict(X)\n",
        "\n",
        "    # Plot clusters\n",
        "    plt.figure(figsize=(6, 6))\n",
        "    unique_labels = set(labels)\n",
        "    colors = [plt.cm.jet(each) for each in np.linspace(0, 1, len(unique_labels))]\n",
        "\n",
        "    for k, col in zip(unique_labels, colors):\n",
        "        if k == -1:\n",
        "            col = (0, 0, 0, 1)  # Black color for noise points\n",
        "        class_member_mask = (labels == k)\n",
        "        plt.scatter(X[class_member_mask, 0], X[class_member_mask, 1],\n",
        "                    c=[col], label=f'Cluster {k}' if k != -1 else 'Noise', edgecolors='k')\n",
        "\n",
        "    plt.title(f\"DBSCAN Clustering (eps={eps}, min_samples={min_samples})\")\n",
        "    plt.legend()\n",
        "    plt.show()"
      ]
    },
    {
      "cell_type": "code",
      "execution_count": null,
      "id": "1e52d362-3a2a-4d66-a0ea-d0db1a6423bd",
      "metadata": {
        "colab": {
          "base_uri": "https://localhost:8080/",
          "height": 641,
          "referenced_widgets": [
            "b56f437facb24f4284e12c9fb68a895b",
            "f312b53e302a405e940a76ab26837d05",
            "a0168d737ec04fa78caf549b8adfed2a",
            "7bdb2b760eba4693b9dceb7dfa575941",
            "f022caa2c4c843bc9aef81fc7a437320",
            "a20fc791fb984c25a0ac079cd35ba8a4",
            "15691e14cba34ea68c352ceaab9fcd0b",
            "e9419471920440cbae90bb48fbe10baa",
            "72240f3e030f41a5b18e993ef1d06a89",
            "3e9a2dd13b2e43c1b86e4592f3ab3bb9",
            "2a335e10e0e4426398e48dec4dc09af9",
            "5eeed1edd8f44f69b8db6dd05f7b0772",
            "df1522e2041441879f7406b4e23efec6"
          ]
        },
        "id": "1e52d362-3a2a-4d66-a0ea-d0db1a6423bd",
        "outputId": "d32f89bc-342a-40bd-eb25-abbfa1285d27"
      },
      "outputs": [
        {
          "output_type": "display_data",
          "data": {
            "text/plain": [
              "interactive(children=(FloatSlider(value=0.3, description='Eps:', max=1.0, min=0.1, step=0.05), IntSlider(value…"
            ],
            "application/vnd.jupyter.widget-view+json": {
              "version_major": 2,
              "version_minor": 0,
              "model_id": "b56f437facb24f4284e12c9fb68a895b"
            }
          },
          "metadata": {}
        }
      ],
      "source": [
        "# Create interactive widgets for DBSCAN parameters\n",
        "eps_slider = widgets.FloatSlider(value=0.3, min=0.1, max=1.0, step=0.05, description=\"Eps:\")\n",
        "min_samples_slider = widgets.IntSlider(value=5, min=1, max=20, step=1, description=\"Min Samples:\")\n",
        "dataset_dropdown = widgets.Dropdown(options=['Blobs', 'Moons'], value='Blobs', description=\"Dataset:\")\n",
        "\n",
        "display(widgets.interactive(plot_dbscan, eps=eps_slider, min_samples=min_samples_slider, dataset=dataset_dropdown))"
      ]
    },
    {
      "cell_type": "markdown",
      "id": "2479a746-64c6-45f9-bc15-ded8c3f20cf0",
      "metadata": {
        "id": "2479a746-64c6-45f9-bc15-ded8c3f20cf0"
      },
      "source": [
        "## How to Use This Notebook\n",
        "\n",
        "1. **Adjust the Parameters:** Use the sliders to modify `eps` and `min_samples`.\n",
        "2. **Choose a Dataset:** Select either **Blobs** or **Moons** to see how DBSCAN performs on different data distributions.\n",
        "3. **Observe the Clusters:** The notebook will update the plot in real-time, showing clusters and noise points (displayed in black).\n",
        "\n",
        "Experiment with different parameter values to see how the clustering changes."
      ]
    },
    {
      "cell_type": "markdown",
      "id": "a4c8f83e-8b48-47d5-8c6d-c6c2f9157e3d",
      "metadata": {
        "id": "a4c8f83e-8b48-47d5-8c6d-c6c2f9157e3d"
      },
      "source": [
        "## Real-World Problem: Identifying Crime Hotspots\n",
        "\n",
        "In many cities, law enforcement agencies need to identify areas with a high concentration of crimes (hotspots) and distinguish them from isolated incidents. DBSCAN is especially useful here because:\n",
        "\n",
        "- It can detect clusters of arbitrary shape.\n",
        "- It naturally identifies outliers (which might represent isolated crimes).\n",
        "\n",
        "In the example below, we simulate crime data where clusters represent crime hotspots and random noise represents isolated events."
      ]
    },
    {
      "cell_type": "markdown",
      "source": [
        "# 🕵️‍♂️ Real-World Example: Identifying Crime Hotspots with DBSCAN  \n",
        "\n",
        "## 📌 1. Generating Synthetic Crime Data  \n",
        "\n",
        "### 🔹 Hotspot Data:  \n",
        "- We generate synthetic data points that simulate **crime hotspots**.  \n",
        "- These represent areas where crime is frequently reported.  \n",
        "- The data is created around **3 central locations** to mimic real-life crime clustering.  \n",
        "\n",
        "### 🔹 Noise Data:  \n",
        "- To simulate **isolated crimes**, we add random noise points.  \n",
        "- These represent sporadic or one-off incidents that do not belong to a dense crime region.  \n",
        "\n",
        "### 🔹 Combining Data:  \n",
        "- We merge both **hotspot data** and **noise data** to create a dataset that resembles real-world crime patterns.  \n",
        "\n",
        "---\n",
        "\n",
        "## 📌 2. Data Standardization  \n",
        "\n",
        "### 🔹 Why Standardize?  \n",
        "- DBSCAN is **sensitive to different scales** of data.  \n",
        "- Standardization ensures that all features contribute **equally** by scaling them to a common range.  \n",
        "- This improves clustering performance and prevents bias towards certain features.  \n",
        "\n",
        "---\n",
        "\n",
        "## 📌 3. Applying DBSCAN  \n",
        "\n",
        "### 🔹 DBSCAN Parameters:  \n",
        "- **`eps` (Epsilon Distance):** Maximum distance between two points to be considered neighbors.  \n",
        "- **`min_samples:`** Minimum number of points required to form a **dense region** (i.e., a cluster).  \n",
        "\n",
        "### 🔹 How DBSCAN Works:  \n",
        "- **Core Points:** Have at least `min_samples` neighbors within `eps`.  \n",
        "- **Border Points:** Close to a core point but do not meet `min_samples`.  \n",
        "- **Noise Points:** Points that do not belong to any cluster (often labeled as `-1`).  \n",
        "\n",
        "### 🔹 Clustering Process:  \n",
        "1. DBSCAN identifies **core points** in dense regions.  \n",
        "2. It expands clusters by connecting **neighboring core points**.  \n",
        "3. **Border points** are assigned to nearby clusters.  \n",
        "4. **Noise points** remain unclustered.  \n",
        "\n",
        "---\n",
        "\n",
        "## 📌 4. Visualizing the Clusters  \n",
        "\n",
        "### 🔹 How We Visualize:  \n",
        "- We create a **scatter plot** to display the clusters.  \n",
        "- Different colors represent different clusters.  \n",
        "- **Noise points (outliers) are marked in black.**  \n",
        "\n",
        "### 🔹 Key Observations:  \n",
        "- High-density crime areas are correctly grouped into clusters.  \n",
        "- Outliers (isolated crimes) are detected and **excluded from clusters**.  \n",
        "- The number of clusters and noise points depends on the **`eps` and `min_samples`** values.  \n",
        "\n",
        "---\n",
        "\n",
        "## 📌 5. What Does This Example Demonstrate?  \n",
        "\n",
        "### 🔹 Clustering Effectiveness:  \n",
        "- **DBSCAN** successfully groups **dense crime areas** while separating out **isolated crimes** as noise.  \n",
        "\n",
        "### 🔹 Parameter Sensitivity:  \n",
        "- Adjusting **`eps` and `min_samples`** can change how clusters are formed.  \n",
        "- In real-world applications, careful **tuning** is required.  \n",
        "\n",
        "### 🔹 Real-World Use Case:  \n",
        "- **Law enforcement** can use DBSCAN to:  \n",
        "  - Identify high-crime areas (**hotspots**).  \n",
        "  - Allocate resources efficiently.  \n",
        "  - Detect unusual, **isolated crime incidents**.  \n",
        "\n",
        "---\n",
        "\n",
        "🚀 **Now it's your turn!**  \n",
        "- Try **changing `eps` and `min_samples`** to see how the clustering results change.  \n",
        "- Experiment with **different datasets** to understand DBSCAN better! 🔍  \n"
      ],
      "metadata": {
        "id": "9WroX2h2zxX7"
      },
      "id": "9WroX2h2zxX7"
    },
    {
      "cell_type": "code",
      "source": [],
      "metadata": {
        "id": "owgeXURsyFKb"
      },
      "id": "owgeXURsyFKb",
      "execution_count": null,
      "outputs": []
    },
    {
      "cell_type": "markdown",
      "source": [
        "## 📌 Step 1: Generating Synthetic Crime Data  \n",
        "\n",
        "- We create **artificial crime locations** to simulate **real-world crime hotspots**.  \n",
        "- These data points will represent **areas with frequent crime occurrences**.  \n",
        "- The data is generated using **`make_blobs`**, creating 3 crime hotspots.\n"
      ],
      "metadata": {
        "id": "Tv9ySSdw0TJs"
      },
      "id": "Tv9ySSdw0TJs"
    },
    {
      "cell_type": "code",
      "source": [
        "from sklearn.datasets import make_blobs\n",
        "import numpy as np\n",
        "\n",
        "# Generate synthetic crime hotspot data\n",
        "X_hotspots, _ = make_blobs(n_samples=250, centers=3, cluster_std=0.8, random_state=42)\n"
      ],
      "metadata": {
        "id": "INaRUU-x0TqL"
      },
      "id": "INaRUU-x0TqL",
      "execution_count": null,
      "outputs": []
    },
    {
      "cell_type": "markdown",
      "source": [
        "## 📌 Step 2: Adding Noise to Simulate Isolated Crimes  \n",
        "\n",
        "- **Not all crimes happen in clusters**—some occur randomly in different locations.  \n",
        "- To simulate **isolated crime incidents**, we add **random noise points**.  \n",
        "- These noise points represent **outliers** that should not belong to any cluster.\n"
      ],
      "metadata": {
        "id": "MLg0623H03TL"
      },
      "id": "MLg0623H03TL"
    },
    {
      "cell_type": "code",
      "source": [
        "# Add random noise points representing isolated crimes\n",
        "np.random.seed(42)\n",
        "noise = np.random.uniform(low=-10, high=10, size=(50, 2))\n",
        "\n",
        "# Merge crime hotspots with noise points\n",
        "crime_data = np.vstack([X_hotspots, noise])\n"
      ],
      "metadata": {
        "id": "rT3ahrZB00Ym"
      },
      "id": "rT3ahrZB00Ym",
      "execution_count": null,
      "outputs": []
    },
    {
      "cell_type": "markdown",
      "source": [
        "## 📌 Step 3: Standardizing the Crime Data  \n",
        "\n",
        "- DBSCAN **works better when data is standardized**.  \n",
        "- Since crime locations exist on different scales, we use **StandardScaler** to normalize them.  \n",
        "- This ensures all features contribute **equally** to the clustering process.\n"
      ],
      "metadata": {
        "id": "wVc3iGGt08yZ"
      },
      "id": "wVc3iGGt08yZ"
    },
    {
      "cell_type": "code",
      "source": [
        "from sklearn.preprocessing import StandardScaler\n",
        "\n",
        "# Standardize the crime data\n",
        "crime_data_std = StandardScaler().fit_transform(crime_data)\n"
      ],
      "metadata": {
        "id": "WPMa_t7w0UD6"
      },
      "id": "WPMa_t7w0UD6",
      "execution_count": null,
      "outputs": []
    },
    {
      "cell_type": "markdown",
      "source": [
        "## 📌 Step 4: Applying DBSCAN Clustering  \n",
        "\n",
        "- **DBSCAN Parameters:**  \n",
        "  - **`eps = 0.5`** → Defines how close points need to be to form a cluster.  \n",
        "  - **`min_samples = 5`** → Minimum points required to form a dense region.  \n",
        "\n",
        "- **DBSCAN automatically identifies:**  \n",
        "  ✅ **Clusters** of crime hotspots.  \n",
        "  ✅ **Noise points** (isolated crime incidents that don't belong to any cluster).  \n"
      ],
      "metadata": {
        "id": "grUGiOTx0UP8"
      },
      "id": "grUGiOTx0UP8"
    },
    {
      "cell_type": "code",
      "source": [
        "from sklearn.cluster import DBSCAN\n",
        "\n",
        "# Apply DBSCAN\n",
        "dbscan_crime = DBSCAN(eps=0.5, min_samples=5)\n",
        "crime_labels = dbscan_crime.fit_predict(crime_data_std)\n"
      ],
      "metadata": {
        "id": "uIdNadIn0UeW"
      },
      "id": "uIdNadIn0UeW",
      "execution_count": null,
      "outputs": []
    },
    {
      "cell_type": "markdown",
      "source": [
        "## 📌 Step 5: Visualizing Crime Hotspots  \n",
        "\n",
        "- We use a **scatter plot** to visualize the DBSCAN clustering results.  \n",
        "- **Different colors represent different crime clusters.**  \n",
        "- **Black points** represent **noise (outliers)** → isolated crimes.  \n"
      ],
      "metadata": {
        "id": "9_JJTWwT0UpN"
      },
      "id": "9_JJTWwT0UpN"
    },
    {
      "cell_type": "code",
      "source": [
        "import matplotlib.pyplot as plt\n",
        "\n",
        "plt.figure(figsize=(6, 6))\n",
        "unique_labels_crime = set(crime_labels)\n",
        "\n",
        "# Assign colors to clusters\n",
        "colors = [plt.cm.nipy_spectral(float(i) / (len(unique_labels_crime) if len(unique_labels_crime) > 0 else 1)) for i in unique_labels_crime]\n",
        "\n",
        "for k, col in zip(unique_labels_crime, colors):\n",
        "    if k == -1:\n",
        "        col = (0, 0, 0, 1)  # Black for noise\n",
        "    class_member_mask = (crime_labels == k)\n",
        "    plt.scatter(crime_data_std[class_member_mask, 0], crime_data_std[class_member_mask, 1], c=[col], edgecolors='k', s=50, label=f'Cluster {k}' if k != -1 else 'Noise')\n",
        "\n",
        "plt.title('Real-World Example: Identifying Crime Hotspots with DBSCAN')\n",
        "plt.legend()\n",
        "plt.show()\n"
      ],
      "metadata": {
        "colab": {
          "base_uri": "https://localhost:8080/",
          "height": 545
        },
        "id": "MJuQuByt0U4E",
        "outputId": "53b37e45-30b1-4501-aa3c-3e8ed14ec396"
      },
      "id": "MJuQuByt0U4E",
      "execution_count": null,
      "outputs": [
        {
          "output_type": "display_data",
          "data": {
            "text/plain": [
              "<Figure size 600x600 with 1 Axes>"
            ],
            "image/png": "[encoded data removed]"
          },
          "metadata": {}
        }
      ]
    },
    {
      "cell_type": "markdown",
      "source": [
        "## 📌 Step 6: Interpreting the Results  \n",
        "\n",
        "### 🔍 Key Observations:  \n",
        "1. **High-Density Crime Areas (Clusters)**  \n",
        "   - DBSCAN successfully groups **frequent crime locations** into distinct clusters.  \n",
        "\n",
        "2. **Outliers (Noise Points)**  \n",
        "   - Isolated crimes **are not assigned to any cluster** and appear as black points.  \n",
        "   - This helps in identifying **one-off crime events** that may require separate investigation.  \n",
        "\n",
        "3. **Adjusting Parameters (`eps` & `min_samples`)**  \n",
        "   - Increasing `eps` makes clusters **larger**, but might misclassify noise.  \n",
        "   - Reducing `eps` makes clusters **tighter**, but might increase the number of noise points.  \n",
        "\n",
        "### 🏆 Real-World Application:  \n",
        "🚔 **Law enforcement agencies** can use DBSCAN to:  \n",
        "✅ Detect high-crime areas (hotspots).  \n",
        "✅ Allocate **police resources efficiently**.  \n",
        "✅ Identify **unusual isolated crime patterns**.  \n",
        "\n",
        "---\n",
        "\n"
      ],
      "metadata": {
        "id": "n1rgm9Qo1OSd"
      },
      "id": "n1rgm9Qo1OSd"
    },
    {
      "cell_type": "code",
      "source": [],
      "metadata": {
        "id": "vw59Hj6I1MP3"
      },
      "id": "vw59Hj6I1MP3",
      "execution_count": null,
      "outputs": []
    },
    {
      "cell_type": "code",
      "source": [],
      "metadata": {
        "id": "X9szW7py2Ghb"
      },
      "id": "X9szW7py2Ghb",
      "execution_count": null,
      "outputs": []
    },
    {
      "cell_type": "code",
      "source": [],
      "metadata": {
        "id": "085mfF1v2Gky"
      },
      "id": "085mfF1v2Gky",
      "execution_count": null,
      "outputs": []
    },
    {
      "cell_type": "markdown",
      "source": [
        "#📌 New Application: Detecting Mobile Money Fraud in Nigeria\n",
        "Real-World Problem:\n",
        "📱 In Nigeria, mobile money transactions are widely used for payments, transfers, and savings. However, fraudsters exploit the system by making suspicious transactions that differ from normal user behavior.\n",
        "\n",
        "🔍 How can DBSCAN help?\n",
        "\n",
        "Identifies clusters of normal transactions (legitimate users).\n",
        "Flags isolated transactions (potential fraud).\n",
        "Helps banks and fintech companies (e.g., Opay, PalmPay, Moniepoint) to detect fraudulent activities automatically."
      ],
      "metadata": {
        "id": "T0-JmnFv2GyJ"
      },
      "id": "T0-JmnFv2GyJ"
    },
    {
      "cell_type": "code",
      "source": [],
      "metadata": {
        "id": "nGPzY5yR2Hhh"
      },
      "id": "nGPzY5yR2Hhh",
      "execution_count": null,
      "outputs": []
    },
    {
      "cell_type": "markdown",
      "source": [
        "## 💳 Step 1: Generating Synthetic Mobile Money Transactions  \n",
        "\n",
        "- Nigerian fintech companies process millions of **mobile money transactions daily**.  \n",
        "- We simulate **normal transactions** where customers send money **within a reasonable range**.  \n",
        "- We add **fraudulent transactions**, which tend to be **isolated and unusual** (e.g., extremely high amounts).  \n",
        "- This dataset will help us use DBSCAN to **detect fraudulent activities**.\n"
      ],
      "metadata": {
        "id": "XvWfaDSz2NZn"
      },
      "id": "XvWfaDSz2NZn"
    },
    {
      "cell_type": "code",
      "source": [
        "import numpy as np\n",
        "import pandas as pd\n",
        "\n",
        "np.random.seed(42)\n",
        "\n",
        "# Simulating normal transactions\n",
        "normal_transactions = np.random.normal(loc=5000, scale=1000, size=(250, 2))  # Amounts around ₦5000\n",
        "\n",
        "# Simulating fraudulent transactions (outliers)\n",
        "fraud_transactions = np.array([\n",
        "    [50000, 10000],  # ₦50,000 transaction (high amount)\n",
        "    [70000, 15000],  # ₦70,000 transaction (high amount)\n",
        "    [85000, 12000],  # ₦85,000 transaction\n",
        "])\n",
        "\n",
        "# Combining both datasets\n",
        "transactions = np.vstack([normal_transactions, fraud_transactions])\n",
        "\n",
        "# Creating a Pandas DataFrame\n",
        "df = pd.DataFrame(transactions, columns=[\"Amount Sent (₦)\", \"Amount Received (₦)\"])\n",
        "df.head()\n"
      ],
      "metadata": {
        "colab": {
          "base_uri": "https://localhost:8080/",
          "height": 206
        },
        "id": "sjSJba6R2N91",
        "outputId": "d6f727b9-8d1a-4b97-c8fd-c1117f7763a7"
      },
      "id": "sjSJba6R2N91",
      "execution_count": null,
      "outputs": [
        {
          "output_type": "execute_result",
          "data": {
            "text/plain": [
              "   Amount Sent (₦)  Amount Received (₦)\n",
              "0      5496.714153          4861.735699\n",
              "1      5647.688538          6523.029856\n",
              "2      4765.846625          4765.863043\n",
              "3      6579.212816          5767.434729\n",
              "4      4530.525614          5542.560044"
            ],
            "text/html": [
              "\n",
              "  <div id=\"df-1d8fb554-54d3-4d06-8dd5-f379ae893346\" class=\"colab-df-container\">\n",
              "    <div>\n",
              "<style scoped>\n",
              "    .dataframe tbody tr th:only-of-type {\n",
              "        vertical-align: middle;\n",
              "    }\n",
              "\n",
              "    .dataframe tbody tr th {\n",
              "        vertical-align: top;\n",
              "    }\n",
              "\n",
              "    .dataframe thead th {\n",
              "        text-align: right;\n",
              "    }\n",
              "</style>\n",
              "<table border=\"1\" class=\"dataframe\">\n",
              "  <thead>\n",
              "    <tr style=\"text-align: right;\">\n",
              "      <th></th>\n",
              "      <th>Amount Sent (₦)</th>\n",
              "      <th>Amount Received (₦)</th>\n",
              "    </tr>\n",
              "  </thead>\n",
              "  <tbody>\n",
              "    <tr>\n",
              "      <th>0</th>\n",
              "      <td>5496.714153</td>\n",
              "      <td>4861.735699</td>\n",
              "    </tr>\n",
              "    <tr>\n",
              "      <th>1</th>\n",
              "      <td>5647.688538</td>\n",
              "      <td>6523.029856</td>\n",
              "    </tr>\n",
              "    <tr>\n",
              "      <th>2</th>\n",
              "      <td>4765.846625</td>\n",
              "      <td>4765.863043</td>\n",
              "    </tr>\n",
              "    <tr>\n",
              "      <th>3</th>\n",
              "      <td>6579.212816</td>\n",
              "      <td>5767.434729</td>\n",
              "    </tr>\n",
              "    <tr>\n",
              "      <th>4</th>\n",
              "      <td>4530.525614</td>\n",
              "      <td>5542.560044</td>\n",
              "    </tr>\n",
              "  </tbody>\n",
              "</table>\n",
              "</div>\n",
              "    <div class=\"colab-df-buttons\">\n",
              "\n",
              "  <div class=\"colab-df-container\">\n",
              "    <button class=\"colab-df-convert\" onclick=\"convertToInteractive('df-1d8fb554-54d3-4d06-8dd5-f379ae893346')\"\n",
              "            title=\"Convert this dataframe to an interactive table.\"\n",
              "            style=\"display:none;\">\n",
              "\n",
              "  <svg xmlns=\"http://www.w3.org/2000/svg\" height=\"24px\" viewBox=\"0 -960 960 960\">\n",
              "    <path d=\"M120-120v-720h720v720H120Zm60-500h600v-160H180v160Zm220 220h160v-160H400v160Zm0 220h160v-160H400v160ZM180-400h160v-160H180v160Zm440 0h160v-160H620v160ZM180-180h160v-160H180v160Zm440 0h160v-160H620v160Z\"/>\n",
              "  </svg>\n",
              "    </button>\n",
              "\n",
              "  <style>\n",
              "    .colab-df-container {\n",
              "      display:flex;\n",
              "      gap: 12px;\n",
              "    }\n",
              "\n",
              "    .colab-df-convert {\n",
              "      background-color: #E8F0FE;\n",
              "      border: none;\n",
              "      border-radius: 50%;\n",
              "      cursor: pointer;\n",
              "      display: none;\n",
              "      fill: #1967D2;\n",
              "      height: 32px;\n",
              "      padding: 0 0 0 0;\n",
              "      width: 32px;\n",
              "    }\n",
              "\n",
              "    .colab-df-convert:hover {\n",
              "      background-color: #E2EBFA;\n",
              "      box-shadow: 0px 1px 2px rgba(60, 64, 67, 0.3), 0px 1px 3px 1px rgba(60, 64, 67, 0.15);\n",
              "      fill: #174EA6;\n",
              "    }\n",
              "\n",
              "    .colab-df-buttons div {\n",
              "      margin-bottom: 4px;\n",
              "    }\n",
              "\n",
              "    [theme=dark] .colab-df-convert {\n",
              "      background-color: #3B4455;\n",
              "      fill: #D2E3FC;\n",
              "    }\n",
              "\n",
              "    [theme=dark] .colab-df-convert:hover {\n",
              "      background-color: #434B5C;\n",
              "      box-shadow: 0px 1px 3px 1px rgba(0, 0, 0, 0.15);\n",
              "      filter: drop-shadow(0px 1px 2px rgba(0, 0, 0, 0.3));\n",
              "      fill: #FFFFFF;\n",
              "    }\n",
              "  </style>\n",
              "\n",
              "    <script>\n",
              "      const buttonEl =\n",
              "        document.querySelector('#df-1d8fb554-54d3-4d06-8dd5-f379ae893346 button.colab-df-convert');\n",
              "      buttonEl.style.display =\n",
              "        google.colab.kernel.accessAllowed ? 'block' : 'none';\n",
              "\n",
              "      async function convertToInteractive(key) {\n",
              "        const element = document.querySelector('#df-1d8fb554-54d3-4d06-8dd5-f379ae893346');\n",
              "        const dataTable =\n",
              "          await google.colab.kernel.invokeFunction('convertToInteractive',\n",
              "                                                    [key], {});\n",
              "        if (!dataTable) return;\n",
              "\n",
              "        const docLinkHtml = 'Like what you see? Visit the ' +\n",
              "          '<a target=\"_blank\" href=https://colab.research.google.com/notebooks/data_table.ipynb>data table notebook</a>'\n",
              "          + ' to learn more about interactive tables.';\n",
              "        element.innerHTML = '';\n",
              "        dataTable['output_type'] = 'display_data';\n",
              "        await google.colab.output.renderOutput(dataTable, element);\n",
              "        const docLink = document.createElement('div');\n",
              "        docLink.innerHTML = docLinkHtml;\n",
              "        element.appendChild(docLink);\n",
              "      }\n",
              "    </script>\n",
              "  </div>\n",
              "\n",
              "\n",
              "<div id=\"df-1630232d-188d-456b-a141-159dade8841f\">\n",
              "  <button class=\"colab-df-quickchart\" onclick=\"quickchart('df-1630232d-188d-456b-a141-159dade8841f')\"\n",
              "            title=\"Suggest charts\"\n",
              "            style=\"display:none;\">\n",
              "\n",
              "<svg xmlns=\"http://www.w3.org/2000/svg\" height=\"24px\"viewBox=\"0 0 24 24\"\n",
              "     width=\"24px\">\n",
              "    <g>\n",
              "        <path d=\"M19 3H5c-1.1 0-2 .9-2 2v14c0 1.1.9 2 2 2h14c1.1 0 2-.9 2-2V5c0-1.1-.9-2-2-2zM9 17H7v-7h2v7zm4 0h-2V7h2v10zm4 0h-2v-4h2v4z\"/>\n",
              "    </g>\n",
              "</svg>\n",
              "  </button>\n",
              "\n",
              "<style>\n",
              "  .colab-df-quickchart {\n",
              "      --bg-color: #E8F0FE;\n",
              "      --fill-color: #1967D2;\n",
              "      --hover-bg-color: #E2EBFA;\n",
              "      --hover-fill-color: #174EA6;\n",
              "      --disabled-fill-color: #AAA;\n",
              "      --disabled-bg-color: #DDD;\n",
              "  }\n",
              "\n",
              "  [theme=dark] .colab-df-quickchart {\n",
              "      --bg-color: #3B4455;\n",
              "      --fill-color: #D2E3FC;\n",
              "      --hover-bg-color: #434B5C;\n",
              "      --hover-fill-color: #FFFFFF;\n",
              "      --disabled-bg-color: #3B4455;\n",
              "      --disabled-fill-color: #666;\n",
              "  }\n",
              "\n",
              "  .colab-df-quickchart {\n",
              "    background-color: var(--bg-color);\n",
              "    border: none;\n",
              "    border-radius: 50%;\n",
              "    cursor: pointer;\n",
              "    display: none;\n",
              "    fill: var(--fill-color);\n",
              "    height: 32px;\n",
              "    padding: 0;\n",
              "    width: 32px;\n",
              "  }\n",
              "\n",
              "  .colab-df-quickchart:hover {\n",
              "    background-color: var(--hover-bg-color);\n",
              "    box-shadow: 0 1px 2px rgba(60, 64, 67, 0.3), 0 1px 3px 1px rgba(60, 64, 67, 0.15);\n",
              "    fill: var(--button-hover-fill-color);\n",
              "  }\n",
              "\n",
              "  .colab-df-quickchart-complete:disabled,\n",
              "  .colab-df-quickchart-complete:disabled:hover {\n",
              "    background-color: var(--disabled-bg-color);\n",
              "    fill: var(--disabled-fill-color);\n",
              "    box-shadow: none;\n",
              "  }\n",
              "\n",
              "  .colab-df-spinner {\n",
              "    border: 2px solid var(--fill-color);\n",
              "    border-color: transparent;\n",
              "    border-bottom-color: var(--fill-color);\n",
              "    animation:\n",
              "      spin 1s steps(1) infinite;\n",
              "  }\n",
              "\n",
              "  @keyframes spin {\n",
              "    0% {\n",
              "      border-color: transparent;\n",
              "      border-bottom-color: var(--fill-color);\n",
              "      border-left-color: var(--fill-color);\n",
              "    }\n",
              "    20% {\n",
              "      border-color: transparent;\n",
              "      border-left-color: var(--fill-color);\n",
              "      border-top-color: var(--fill-color);\n",
              "    }\n",
              "    30% {\n",
              "      border-color: transparent;\n",
              "      border-left-color: var(--fill-color);\n",
              "      border-top-color: var(--fill-color);\n",
              "      border-right-color: var(--fill-color);\n",
              "    }\n",
              "    40% {\n",
              "      border-color: transparent;\n",
              "      border-right-color: var(--fill-color);\n",
              "      border-top-color: var(--fill-color);\n",
              "    }\n",
              "    60% {\n",
              "      border-color: transparent;\n",
              "      border-right-color: var(--fill-color);\n",
              "    }\n",
              "    80% {\n",
              "      border-color: transparent;\n",
              "      border-right-color: var(--fill-color);\n",
              "      border-bottom-color: var(--fill-color);\n",
              "    }\n",
              "    90% {\n",
              "      border-color: transparent;\n",
              "      border-bottom-color: var(--fill-color);\n",
              "    }\n",
              "  }\n",
              "</style>\n",
              "\n",
              "  <script>\n",
              "    async function quickchart(key) {\n",
              "      const quickchartButtonEl =\n",
              "        document.querySelector('#' + key + ' button');\n",
              "      quickchartButtonEl.disabled = true;  // To prevent multiple clicks.\n",
              "      quickchartButtonEl.classList.add('colab-df-spinner');\n",
              "      try {\n",
              "        const charts = await google.colab.kernel.invokeFunction(\n",
              "            'suggestCharts', [key], {});\n",
              "      } catch (error) {\n",
              "        console.error('Error during call to suggestCharts:', error);\n",
              "      }\n",
              "      quickchartButtonEl.classList.remove('colab-df-spinner');\n",
              "      quickchartButtonEl.classList.add('colab-df-quickchart-complete');\n",
              "    }\n",
              "    (() => {\n",
              "      let quickchartButtonEl =\n",
              "        document.querySelector('#df-1630232d-188d-456b-a141-159dade8841f button');\n",
              "      quickchartButtonEl.style.display =\n",
              "        google.colab.kernel.accessAllowed ? 'block' : 'none';\n",
              "    })();\n",
              "  </script>\n",
              "</div>\n",
              "\n",
              "    </div>\n",
              "  </div>\n"
            ],
            "application/vnd.google.colaboratory.intrinsic+json": {
              "type": "dataframe",
              "variable_name": "df",
              "summary": "{\n  \"name\": \"df\",\n  \"rows\": 253,\n  \"fields\": [\n    {\n      \"column\": \"Amount Sent (\\u20a6)\",\n      \"properties\": {\n        \"dtype\": \"number\",\n        \"std\": 7114.214958870227,\n        \"min\": 1758.7326599309276,\n        \"max\": 85000.0,\n        \"num_unique_values\": 253,\n        \"samples\": [\n          6551.151975522523,\n          5241.962271566034,\n          3808.696502797351\n        ],\n        \"semantic_type\": \"\",\n        \"description\": \"\"\n      }\n    },\n    {\n      \"column\": \"Amount Received (\\u20a6)\",\n      \"properties\": {\n        \"dtype\": \"number\",\n        \"std\": 1266.4192989178691,\n        \"min\": 2698.0788352644154,\n        \"max\": 15000.0,\n        \"num_unique_values\": 253,\n        \"samples\": [\n          5115.674634292859,\n          3086.719755342202,\n          5656.55360863383\n        ],\n        \"semantic_type\": \"\",\n        \"description\": \"\"\n      }\n    }\n  ]\n}"
            }
          },
          "metadata": {},
          "execution_count": 14
        }
      ]
    },
    {
      "cell_type": "markdown",
      "source": [
        "## 🚨 Step 2: Applying DBSCAN to Detect Fraud  \n",
        "\n",
        "- We apply **DBSCAN clustering** to find fraudulent transactions.  \n",
        "- **Normal transactions** will form clusters.  \n",
        "- **Fraudulent transactions** will be classified as **outliers (noise)**.\n"
      ],
      "metadata": {
        "id": "Y8BKDRBz2RgA"
      },
      "id": "Y8BKDRBz2RgA"
    },
    {
      "cell_type": "code",
      "source": [
        "from sklearn.preprocessing import StandardScaler\n",
        "from sklearn.cluster import DBSCAN\n",
        "\n",
        "# Standardize transaction amounts\n",
        "transactions_std = StandardScaler().fit_transform(transactions)\n",
        "\n",
        "# Apply DBSCAN\n",
        "dbscan_fraud = DBSCAN(eps=0.5, min_samples=5)\n",
        "fraud_labels = dbscan_fraud.fit_predict(transactions_std)\n"
      ],
      "metadata": {
        "id": "PMMgT10P2QMp"
      },
      "id": "PMMgT10P2QMp",
      "execution_count": null,
      "outputs": []
    },
    {
      "cell_type": "markdown",
      "source": [
        "## 📊 Step 3: Visualizing Fraud Detection Results  \n",
        "\n",
        "- Each **color** represents a different cluster of normal transactions.  \n",
        "- **Black points** represent **flagged fraud transactions** (outliers).  \n",
        "- If a transaction **does not belong to any cluster**, it is likely **fraudulent**.\n"
      ],
      "metadata": {
        "id": "oPe_1PPr2Zaa"
      },
      "id": "oPe_1PPr2Zaa"
    },
    {
      "cell_type": "code",
      "source": [
        "import matplotlib.pyplot as plt\n",
        "\n",
        "plt.figure(figsize=(6, 6))\n",
        "unique_labels_fraud = set(fraud_labels)\n",
        "\n",
        "# Assign colors to clusters\n",
        "colors = [plt.cm.nipy_spectral(float(i) / (len(unique_labels_fraud) if len(unique_labels_fraud) > 0 else 1)) for i in unique_labels_fraud]\n",
        "\n",
        "for k, col in zip(unique_labels_fraud, colors):\n",
        "    if k == -1:\n",
        "        col = 'red'  # Fraud cases in RED\n",
        "    class_member_mask = (fraud_labels == k)\n",
        "    plt.scatter(transactions_std[class_member_mask, 0], transactions_std[class_member_mask, 1],\n",
        "                c=[col], edgecolors='k', s=50,\n",
        "                label=f'Cluster {k}' if k != -1 else '⚠️ Fraud')\n",
        "\n",
        "plt.title('📌 Fraud Detection in Mobile Money Transactions (DBSCAN)')\n",
        "plt.xlabel(\"Amount Sent (Standardized)\")\n",
        "plt.ylabel(\"Amount Received (Standardized)\")\n",
        "plt.legend()\n",
        "plt.show()\n"
      ],
      "metadata": {
        "colab": {
          "base_uri": "https://localhost:8080/",
          "height": 564
        },
        "id": "wngwWIEt2Xcs",
        "outputId": "a497b658-3db7-4bf8-a35a-de1b0cde9151"
      },
      "id": "wngwWIEt2Xcs",
      "execution_count": null,
      "outputs": [
        {
          "output_type": "display_data",
          "data": {
            "text/plain": [
              "<Figure size 600x600 with 1 Axes>"
            ],
            "image/png": "[encoded data removed]"
          },
          "metadata": {}
        }
      ]
    },
    {
      "cell_type": "markdown",
      "source": [
        "## 🏆 Step 4: Interpreting the Results  \n",
        "\n",
        "### 🔍 Key Observations:  \n",
        "1️⃣ **Clusters of Normal Transactions**  \n",
        "   - DBSCAN groups most transactions into **clusters**, representing normal spending patterns.  \n",
        "\n",
        "2️⃣ **Fraudulent Transactions (Noise)**  \n",
        "   - Transactions **with extremely high amounts** (e.g., ₦50,000+) appear **as outliers (black points)**.  \n",
        "   - These transactions differ **significantly from regular transactions** and should be investigated.  \n",
        "\n",
        "3️⃣ **Real-World Applications**  \n",
        "🏦 **Banks and Fintech Companies** (Opay, Kuda, PalmPay, Moniepoint) can use this approach to:  \n",
        "✅ Automatically **flag suspicious transactions**.  \n",
        "✅ Detect **unusual spending patterns** before fraud occurs.  \n",
        "✅ Reduce **fraud losses** by analyzing customer behavior.  \n",
        "\n",
        "🚀 **Try adjusting the DBSCAN parameters (`eps`, `min_samples`)** and see how fraud detection changes!\n"
      ],
      "metadata": {
        "id": "cSob6Sz62e2Q"
      },
      "id": "cSob6Sz62e2Q"
    },
    {
      "cell_type": "code",
      "source": [],
      "metadata": {
        "id": "IWTA6oGS2wHv"
      },
      "id": "IWTA6oGS2wHv",
      "execution_count": null,
      "outputs": []
    },
    {
      "cell_type": "markdown",
      "source": [
        "## **🔍 How to Determine the Optimal Number of Clusters in DBSCAN?**\n",
        "Unlike K-Means, **DBSCAN does not require specifying the number of clusters (`K`) in advance**. Instead, it groups data points based on density, which makes it ideal for **detecting irregular patterns, noise, and outliers**.\n",
        "\n",
        "However, choosing the **right `eps` (epsilon) and `min_samples` parameters** is crucial for obtaining meaningful clusters.\n",
        "\n",
        "---\n",
        "\n",
        "## **📌 Finding the Optimal `eps`**\n",
        "The `eps` parameter defines the **maximum distance** between two points for them to be considered neighbors. Choosing the right `eps` ensures that:\n",
        "- **Clusters are well-formed** (not too sparse or too dense).\n",
        "- **Noise points (outliers) are correctly identified**.\n",
        "- **The algorithm detects the natural structure in the data**.\n",
        "\n",
        "### **Method: K-Distance Plot (Elbow Method for DBSCAN)**\n",
        "To determine `eps`, we use a **K-Distance Plot**, which works as follows:\n",
        "1. **Find the distance to the `k` nearest neighbors** for each data point (`k = min_samples`).\n",
        "2. **Sort these distances in ascending order**.\n",
        "3. **Plot the sorted distances**.  \n",
        "   - The \"elbow\" or \"knee\" point in the curve suggests a good `eps` value.\n",
        "\n",
        "---\n",
        "\n",
        "## **📊 K-Distance Plot: Visualizing `eps`**\n",
        "A K-Distance plot typically looks like this:\n",
        "\n"
      ],
      "metadata": {
        "id": "mx6DsHGu3KHV"
      },
      "id": "mx6DsHGu3KHV"
    },
    {
      "cell_type": "markdown",
      "source": [
        "\n",
        "- The sharp **bend (elbow)** in the curve represents a good choice for `eps`.\n",
        "- Points **before the bend** are too close, leading to **over-clustering**.\n",
        "- Points **after the bend** are too far apart, leading to **under-clustering**.\n",
        "\n",
        "---\n",
        "\n",
        "## **📌 Finding `min_samples`**\n",
        "The `min_samples` parameter defines the **minimum number of points** required to form a cluster.\n",
        "- A general rule: **Set `min_samples` ≈ Dimensionality of the data (`D`) × 2**  \n",
        "  - For **2D data**, use **`min_samples = 4 or 5`**.\n",
        "  - For **high-dimensional data**, use **higher values**.\n",
        "\n",
        "---\n",
        "\n",
        "## **🔹 Summary**\n",
        "✅ **DBSCAN is automatic, but tuning `eps` is key.**  \n",
        "✅ **Use a K-Distance Plot to determine the best `eps`.**  \n",
        "✅ **Choose `min_samples` based on the data’s dimensionality.**  \n",
        "✅ **DBSCAN is great for detecting anomalies and irregular clusters.**  \n",
        "\n",
        "Would you like to include an **interactive slider to adjust `eps` dynamically**? 🚀\n"
      ],
      "metadata": {
        "id": "ycN9k6hA3SZx"
      },
      "id": "ycN9k6hA3SZx"
    },
    {
      "cell_type": "code",
      "source": [
        "import numpy as np\n",
        "import matplotlib.pyplot as plt\n",
        "from sklearn.neighbors import NearestNeighbors\n",
        "from sklearn.datasets import make_blobs\n",
        "\n",
        "# Generate synthetic data\n",
        "X, _ = make_blobs(n_samples=300, centers=4, cluster_std=0.6, random_state=42)\n",
        "\n",
        "# Fit Nearest Neighbors model\n",
        "k = 5  # Set min_samples for DBSCAN\n",
        "neigh = NearestNeighbors(n_neighbors=k)\n",
        "neigh.fit(X)\n",
        "\n",
        "# Compute distances to the k-th nearest neighbor\n",
        "distances, indices = neigh.kneighbors(X)\n",
        "distances = np.sort(distances[:, k-1])  # Sort distances of the k-th neighbor\n",
        "\n",
        "# Plot the K-Distance Graph\n",
        "plt.figure(figsize=(8, 5))\n",
        "plt.plot(distances, marker='o', linestyle='-')\n",
        "plt.xlabel(\"Data Points (sorted)\")\n",
        "plt.ylabel(f\"Distance to {k}-th Nearest Neighbor\")\n",
        "plt.title(\"K-Distance Plot for DBSCAN (Finding Optimal eps)\")\n",
        "plt.axhline(y=distances[int(len(distances) * 0.9)], color='r', linestyle='--', label=\"Suggested eps\")\n",
        "plt.legend()\n",
        "plt.show()\n"
      ],
      "metadata": {
        "colab": {
          "base_uri": "https://localhost:8080/",
          "height": 487
        },
        "id": "jOQzf5ec3Na5",
        "outputId": "ae2961a2-1215-4cd6-dd03-b24b0186c1db"
      },
      "id": "jOQzf5ec3Na5",
      "execution_count": null,
      "outputs": [
        {
          "output_type": "display_data",
          "data": {
            "text/plain": [
              "<Figure size 800x500 with 1 Axes>"
            ],
            "image/png": "[encoded data removed]"
          },
          "metadata": {}
        }
      ]
    },
    {
      "cell_type": "code",
      "source": [],
      "metadata": {
        "id": "j6nCUrYi3cpz"
      },
      "id": "j6nCUrYi3cpz",
      "execution_count": null,
      "outputs": []
    }
  ],
  "metadata": {
    "kernelspec": {
      "display_name": "Python 3",
      "language": "python",
      "name": "python3"
    },
    "language_info": {
      "name": "python",
      "version": "3.x"
    },
    "colab": {
      "provenance": [],
      "include_colab_link": true
    },
    "widgets": {
      "application/vnd.jupyter.widget-state+json": {
        "b56f437facb24f4284e12c9fb68a895b": {
          "model_module": "@jupyter-widgets/controls",
          "model_name": "VBoxModel",
          "model_module_version": "1.5.0",
          "state": {
            "_dom_classes": [
              "widget-interact"
            ],
            "_model_module": "@jupyter-widgets/controls",
            "_model_module_version": "1.5.0",
            "_model_name": "VBoxModel",
            "_view_count": null,
            "_view_module": "@jupyter-widgets/controls",
            "_view_module_version": "1.5.0",
            "_view_name": "VBoxView",
            "box_style": "",
            "children": [
              "IPY_MODEL_f312b53e302a405e940a76ab26837d05",
              "IPY_MODEL_a0168d737ec04fa78caf549b8adfed2a",
              "IPY_MODEL_7bdb2b760eba4693b9dceb7dfa575941",
              "IPY_MODEL_f022caa2c4c843bc9aef81fc7a437320"
            ],
            "layout": "IPY_MODEL_a20fc791fb984c25a0ac079cd35ba8a4"
          }
        },
        "f312b53e302a405e940a76ab26837d05": {
          "model_module": "@jupyter-widgets/controls",
          "model_name": "FloatSliderModel",
          "model_module_version": "1.5.0",
          "state": {
            "_dom_classes": [],
            "_model_module": "@jupyter-widgets/controls",
            "_model_module_version": "1.5.0",
            "_model_name": "FloatSliderModel",
            "_view_count": null,
            "_view_module": "@jupyter-widgets/controls",
            "_view_module_version": "1.5.0",
            "_view_name": "FloatSliderView",
            "continuous_update": true,
            "description": "Eps:",
            "description_tooltip": null,
            "disabled": false,
            "layout": "IPY_MODEL_15691e14cba34ea68c352ceaab9fcd0b",
            "max": 1,
            "min": 0.1,
            "orientation": "horizontal",
            "readout": true,
            "readout_format": ".2f",
            "step": 0.05,
            "style": "IPY_MODEL_e9419471920440cbae90bb48fbe10baa",
            "value": 0.3
          }
        },
        "a0168d737ec04fa78caf549b8adfed2a": {
          "model_module": "@jupyter-widgets/controls",
          "model_name": "IntSliderModel",
          "model_module_version": "1.5.0",
          "state": {
            "_dom_classes": [],
            "_model_module": "@jupyter-widgets/controls",
            "_model_module_version": "1.5.0",
            "_model_name": "IntSliderModel",
            "_view_count": null,
            "_view_module": "@jupyter-widgets/controls",
            "_view_module_version": "1.5.0",
            "_view_name": "IntSliderView",
            "continuous_update": true,
            "description": "Min Samples:",
            "description_tooltip": null,
            "disabled": false,
            "layout": "IPY_MODEL_72240f3e030f41a5b18e993ef1d06a89",
            "max": 20,
            "min": 1,
            "orientation": "horizontal",
            "readout": true,
            "readout_format": "d",
            "step": 1,
            "style": "IPY_MODEL_3e9a2dd13b2e43c1b86e4592f3ab3bb9",
            "value": 5
          }
        },
        "7bdb2b760eba4693b9dceb7dfa575941": {
          "model_module": "@jupyter-widgets/controls",
          "model_name": "DropdownModel",
          "model_module_version": "1.5.0",
          "state": {
            "_dom_classes": [],
            "_model_module": "@jupyter-widgets/controls",
            "_model_module_version": "1.5.0",
            "_model_name": "DropdownModel",
            "_options_labels": [
              "Blobs",
              "Moons"
            ],
            "_view_count": null,
            "_view_module": "@jupyter-widgets/controls",
            "_view_module_version": "1.5.0",
            "_view_name": "DropdownView",
            "description": "Dataset:",
            "description_tooltip": null,
            "disabled": false,
            "index": 0,
            "layout": "IPY_MODEL_2a335e10e0e4426398e48dec4dc09af9",
            "style": "IPY_MODEL_5eeed1edd8f44f69b8db6dd05f7b0772"
          }
        },
        "f022caa2c4c843bc9aef81fc7a437320": {
          "model_module": "@jupyter-widgets/output",
          "model_name": "OutputModel",
          "model_module_version": "1.0.0",
          "state": {
            "_dom_classes": [],
            "_model_module": "@jupyter-widgets/output",
            "_model_module_version": "1.0.0",
            "_model_name": "OutputModel",
            "_view_count": null,
            "_view_module": "@jupyter-widgets/output",
            "_view_module_version": "1.0.0",
            "_view_name": "OutputView",
            "layout": "IPY_MODEL_df1522e2041441879f7406b4e23efec6",
            "msg_id": "",
            "outputs": [
              {
                "output_type": "display_data",
                "data": {
                  "text/plain": "<Figure size 600x600 with 1 Axes>",
                  "image/png": "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\n"
                },
                "metadata": {}
              }
            ]
          }
        },
        "a20fc791fb984c25a0ac079cd35ba8a4": {
          "model_module": "@jupyter-widgets/base",
          "model_name": "LayoutModel",
          "model_module_version": "1.2.0",
          "state": {
            "_model_module": "@jupyter-widgets/base",
            "_model_module_version": "1.2.0",
            "_model_name": "LayoutModel",
            "_view_count": null,
            "_view_module": "@jupyter-widgets/base",
            "_view_module_version": "1.2.0",
            "_view_name": "LayoutView",
            "align_content": null,
            "align_items": null,
            "align_self": null,
            "border": null,
            "bottom": null,
            "display": null,
            "flex": null,
            "flex_flow": null,
            "grid_area": null,
            "grid_auto_columns": null,
            "grid_auto_flow": null,
            "grid_auto_rows": null,
            "grid_column": null,
            "grid_gap": null,
            "grid_row": null,
            "grid_template_areas": null,
            "grid_template_columns": null,
            "grid_template_rows": null,
            "height": null,
            "justify_content": null,
            "justify_items": null,
            "left": null,
            "margin": null,
            "max_height": null,
            "max_width": null,
            "min_height": null,
            "min_width": null,
            "object_fit": null,
            "object_position": null,
            "order": null,
            "overflow": null,
            "overflow_x": null,
            "overflow_y": null,
            "padding": null,
            "right": null,
            "top": null,
            "visibility": null,
            "width": null
          }
        },
        "15691e14cba34ea68c352ceaab9fcd0b": {
          "model_module": "@jupyter-widgets/base",
          "model_name": "LayoutModel",
          "model_module_version": "1.2.0",
          "state": {
            "_model_module": "@jupyter-widgets/base",
            "_model_module_version": "1.2.0",
            "_model_name": "LayoutModel",
            "_view_count": null,
            "_view_module": "@jupyter-widgets/base",
            "_view_module_version": "1.2.0",
            "_view_name": "LayoutView",
            "align_content": null,
            "align_items": null,
            "align_self": null,
            "border": null,
            "bottom": null,
            "display": null,
            "flex": null,
            "flex_flow": null,
            "grid_area": null,
            "grid_auto_columns": null,
            "grid_auto_flow": null,
            "grid_auto_rows": null,
            "grid_column": null,
            "grid_gap": null,
            "grid_row": null,
            "grid_template_areas": null,
            "grid_template_columns": null,
            "grid_template_rows": null,
            "height": null,
            "justify_content": null,
            "justify_items": null,
            "left": null,
            "margin": null,
            "max_height": null,
            "max_width": null,
            "min_height": null,
            "min_width": null,
            "object_fit": null,
            "object_position": null,
            "order": null,
            "overflow": null,
            "overflow_x": null,
            "overflow_y": null,
            "padding": null,
            "right": null,
            "top": null,
            "visibility": null,
            "width": null
          }
        },
        "e9419471920440cbae90bb48fbe10baa": {
          "model_module": "@jupyter-widgets/controls",
          "model_name": "SliderStyleModel",
          "model_module_version": "1.5.0",
          "state": {
            "_model_module": "@jupyter-widgets/controls",
            "_model_module_version": "1.5.0",
            "_model_name": "SliderStyleModel",
            "_view_count": null,
            "_view_module": "@jupyter-widgets/base",
            "_view_module_version": "1.2.0",
            "_view_name": "StyleView",
            "description_width": "",
            "handle_color": null
          }
        },
        "72240f3e030f41a5b18e993ef1d06a89": {
          "model_module": "@jupyter-widgets/base",
          "model_name": "LayoutModel",
          "model_module_version": "1.2.0",
          "state": {
            "_model_module": "@jupyter-widgets/base",
            "_model_module_version": "1.2.0",
            "_model_name": "LayoutModel",
            "_view_count": null,
            "_view_module": "@jupyter-widgets/base",
            "_view_module_version": "1.2.0",
            "_view_name": "LayoutView",
            "align_content": null,
            "align_items": null,
            "align_self": null,
            "border": null,
            "bottom": null,
            "display": null,
            "flex": null,
            "flex_flow": null,
            "grid_area": null,
            "grid_auto_columns": null,
            "grid_auto_flow": null,
            "grid_auto_rows": null,
            "grid_column": null,
            "grid_gap": null,
            "grid_row": null,
            "grid_template_areas": null,
            "grid_template_columns": null,
            "grid_template_rows": null,
            "height": null,
            "justify_content": null,
            "justify_items": null,
            "left": null,
            "margin": null,
            "max_height": null,
            "max_width": null,
            "min_height": null,
            "min_width": null,
            "object_fit": null,
            "object_position": null,
            "order": null,
            "overflow": null,
            "overflow_x": null,
            "overflow_y": null,
            "padding": null,
            "right": null,
            "top": null,
            "visibility": null,
            "width": null
          }
        },
        "3e9a2dd13b2e43c1b86e4592f3ab3bb9": {
          "model_module": "@jupyter-widgets/controls",
          "model_name": "SliderStyleModel",
          "model_module_version": "1.5.0",
          "state": {
            "_model_module": "@jupyter-widgets/controls",
            "_model_module_version": "1.5.0",
            "_model_name": "SliderStyleModel",
            "_view_count": null,
            "_view_module": "@jupyter-widgets/base",
            "_view_module_version": "1.2.0",
            "_view_name": "StyleView",
            "description_width": "",
            "handle_color": null
          }
        },
        "2a335e10e0e4426398e48dec4dc09af9": {
          "model_module": "@jupyter-widgets/base",
          "model_name": "LayoutModel",
          "model_module_version": "1.2.0",
          "state": {
            "_model_module": "@jupyter-widgets/base",
            "_model_module_version": "1.2.0",
            "_model_name": "LayoutModel",
            "_view_count": null,
            "_view_module": "@jupyter-widgets/base",
            "_view_module_version": "1.2.0",
            "_view_name": "LayoutView",
            "align_content": null,
            "align_items": null,
            "align_self": null,
            "border": null,
            "bottom": null,
            "display": null,
            "flex": null,
            "flex_flow": null,
            "grid_area": null,
            "grid_auto_columns": null,
            "grid_auto_flow": null,
            "grid_auto_rows": null,
            "grid_column": null,
            "grid_gap": null,
            "grid_row": null,
            "grid_template_areas": null,
            "grid_template_columns": null,
            "grid_template_rows": null,
            "height": null,
            "justify_content": null,
            "justify_items": null,
            "left": null,
            "margin": null,
            "max_height": null,
            "max_width": null,
            "min_height": null,
            "min_width": null,
            "object_fit": null,
            "object_position": null,
            "order": null,
            "overflow": null,
            "overflow_x": null,
            "overflow_y": null,
            "padding": null,
            "right": null,
            "top": null,
            "visibility": null,
            "width": null
          }
        },
        "5eeed1edd8f44f69b8db6dd05f7b0772": {
          "model_module": "@jupyter-widgets/controls",
          "model_name": "DescriptionStyleModel",
          "model_module_version": "1.5.0",
          "state": {
            "_model_module": "@jupyter-widgets/controls",
            "_model_module_version": "1.5.0",
            "_model_name": "DescriptionStyleModel",
            "_view_count": null,
            "_view_module": "@jupyter-widgets/base",
            "_view_module_version": "1.2.0",
            "_view_name": "StyleView",
            "description_width": ""
          }
        },
        "df1522e2041441879f7406b4e23efec6": {
          "model_module": "@jupyter-widgets/base",
          "model_name": "LayoutModel",
          "model_module_version": "1.2.0",
          "state": {
            "_model_module": "@jupyter-widgets/base",
            "_model_module_version": "1.2.0",
            "_model_name": "LayoutModel",
            "_view_count": null,
            "_view_module": "@jupyter-widgets/base",
            "_view_module_version": "1.2.0",
            "_view_name": "LayoutView",
            "align_content": null,
            "align_items": null,
            "align_self": null,
            "border": null,
            "bottom": null,
            "display": null,
            "flex": null,
            "flex_flow": null,
            "grid_area": null,
            "grid_auto_columns": null,
            "grid_auto_flow": null,
            "grid_auto_rows": null,
            "grid_column": null,
            "grid_gap": null,
            "grid_row": null,
            "grid_template_areas": null,
            "grid_template_columns": null,
            "grid_template_rows": null,
            "height": null,
            "justify_content": null,
            "justify_items": null,
            "left": null,
            "margin": null,
            "max_height": null,
            "max_width": null,
            "min_height": null,
            "min_width": null,
            "object_fit": null,
            "object_position": null,
            "order": null,
            "overflow": null,
            "overflow_x": null,
            "overflow_y": null,
            "padding": null,
            "right": null,
            "top": null,
            "visibility": null,
            "width": null
          }
        }
      }
    }
  },
  "nbformat": 4,
  "nbformat_minor": 5
}